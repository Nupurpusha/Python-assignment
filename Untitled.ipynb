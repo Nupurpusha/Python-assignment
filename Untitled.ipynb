{
  "cells": [
    {
      "cell_type": "markdown",
      "metadata": {
        "id": "view-in-github",
        "colab_type": "text"
      },
      "source": [
        "<a href=\"https://colab.research.google.com/github/Nupurpusha/Python-assignment/blob/main/Untitled.ipynb\" target=\"_parent\"><img src=\"https://colab.research.google.com/assets/colab-badge.svg\" alt=\"Open In Colab\"/></a>"
      ]
    },
    {
      "cell_type": "code",
      "execution_count": null,
      "id": "3195cdd3-011e-4043-9d05-3694140e2a6b",
      "metadata": {
        "id": "3195cdd3-011e-4043-9d05-3694140e2a6b",
        "outputId": "3abd48d5-61e6-4b2d-9321-c1d00524bed6"
      },
      "outputs": [
        {
          "name": "stdout",
          "output_type": "stream",
          "text": [
            "[11, 12, 13, 14, 50, 60]\n"
          ]
        }
      ],
      "source": [
        "L = [11, 12, 13, 14]\n",
        "L.extend([50, 60])\n",
        "print(L)"
      ]
    },
    {
      "cell_type": "code",
      "execution_count": null,
      "id": "ed6dfaeb-5d91-4950-8121-51e92e9da13a",
      "metadata": {
        "id": "ed6dfaeb-5d91-4950-8121-51e92e9da13a",
        "outputId": "00c794f5-ec40-4c44-efc6-59e37284d601"
      },
      "outputs": [
        {
          "name": "stdout",
          "output_type": "stream",
          "text": [
            "[13, 14]\n"
          ]
        }
      ],
      "source": [
        "L=[11,12,13,14]\n",
        "L.remove(11)\n",
        "L.remove(12)\n",
        "print(L)"
      ]
    },
    {
      "cell_type": "code",
      "execution_count": null,
      "id": "26e4b88f-aab0-4e59-9824-fb2bf6336c39",
      "metadata": {
        "id": "26e4b88f-aab0-4e59-9824-fb2bf6336c39",
        "outputId": "d58d5a4c-590a-49f6-b4fe-18d50531f775"
      },
      "outputs": [
        {
          "name": "stdout",
          "output_type": "stream",
          "text": [
            "[11, 12, 13, 14]\n"
          ]
        }
      ],
      "source": [
        "L=[11,12,13,14]\n",
        "L.sort()\n",
        "print(L)"
      ]
    },
    {
      "cell_type": "code",
      "execution_count": null,
      "id": "62a310c4-fb59-4963-a001-843a78762042",
      "metadata": {
        "id": "62a310c4-fb59-4963-a001-843a78762042",
        "outputId": "5bb22ea6-507e-4a59-d8a6-73eebd13c515"
      },
      "outputs": [
        {
          "name": "stdout",
          "output_type": "stream",
          "text": [
            "[14, 13, 12, 11]\n"
          ]
        }
      ],
      "source": [
        "L=[11,12,13,14]\n",
        "L.sort(reverse=True)\n",
        "print(L)"
      ]
    },
    {
      "cell_type": "code",
      "execution_count": null,
      "id": "28dfe6fc-4e58-42a7-a159-861f127114d5",
      "metadata": {
        "id": "28dfe6fc-4e58-42a7-a159-861f127114d5",
        "outputId": "4e79c907-ee40-4576-d3ee-2cb09eecfe77"
      },
      "outputs": [
        {
          "name": "stdout",
          "output_type": "stream",
          "text": [
            "True\n"
          ]
        }
      ],
      "source": [
        "L=[11,12,13,14]\n",
        "print(13 in L)"
      ]
    },
    {
      "cell_type": "code",
      "execution_count": null,
      "id": "6cf8f6af-b939-4236-a987-cc8a3f5c3d4d",
      "metadata": {
        "id": "6cf8f6af-b939-4236-a987-cc8a3f5c3d4d",
        "outputId": "088d4554-78b7-46e5-c9bc-be3b1c652a36"
      },
      "outputs": [
        {
          "name": "stdout",
          "output_type": "stream",
          "text": [
            "4\n"
          ]
        }
      ],
      "source": [
        "L=[11,12,13,14]\n",
        "print(len(L))"
      ]
    },
    {
      "cell_type": "code",
      "execution_count": null,
      "id": "504155ef-81b5-4be9-9f00-a6ebf62724cd",
      "metadata": {
        "id": "504155ef-81b5-4be9-9f00-a6ebf62724cd",
        "outputId": "edfb26cd-5a81-4905-aa6a-96b25eb77042"
      },
      "outputs": [
        {
          "name": "stdout",
          "output_type": "stream",
          "text": [
            "50\n"
          ]
        }
      ],
      "source": [
        "s=0\n",
        "L=[11,12,13,14]\n",
        "s=sum(L)\n",
        "print(s)"
      ]
    },
    {
      "cell_type": "code",
      "execution_count": null,
      "id": "296101fb-2abb-4baf-a7e3-b29afd3c1498",
      "metadata": {
        "id": "296101fb-2abb-4baf-a7e3-b29afd3c1498",
        "outputId": "138c9230-3268-437b-a685-2f18526f7f1d"
      },
      "outputs": [
        {
          "name": "stdout",
          "output_type": "stream",
          "text": [
            "26\n"
          ]
        }
      ],
      "source": [
        "evensum = 0\n",
        "L = [11, 12, 13, 14]\n",
        "\n",
        "for i in L:\n",
        "    if i % 2 == 0:\n",
        "        evensum += i\n",
        "\n",
        "print(evensum)\n",
        "\n"
      ]
    },
    {
      "cell_type": "code",
      "execution_count": null,
      "id": "a0428ca4-6bae-4c0d-ba31-ca279576ba39",
      "metadata": {
        "id": "a0428ca4-6bae-4c0d-ba31-ca279576ba39",
        "outputId": "8d826ccc-3e2b-47ff-aade-fe48329888a8"
      },
      "outputs": [
        {
          "name": "stdout",
          "output_type": "stream",
          "text": [
            "50\n"
          ]
        }
      ],
      "source": [
        "oddsum = 0\n",
        "L = [11, 12, 13, 14]\n",
        "\n",
        "for i in L:\n",
        "    if i % 2 != 0:\n",
        "        evensum += i\n",
        "\n",
        "print(evensum)\n"
      ]
    },
    {
      "cell_type": "code",
      "execution_count": null,
      "id": "e9fe4507-e96c-4c69-b69e-9f0788bb7547",
      "metadata": {
        "id": "e9fe4507-e96c-4c69-b69e-9f0788bb7547",
        "outputId": "3df86159-d8ef-4311-e42f-b914b89ef105"
      },
      "outputs": [
        {
          "name": "stdout",
          "output_type": "stream",
          "text": [
            "0\n"
          ]
        }
      ],
      "source": [
        "L=[11,12,13,14]\n",
        "s=0\n",
        "n=len(L)\n",
        "for i in range(2,n//2+1):\n",
        "    if n%i!=0:\n",
        "       s=s+i\n",
        "\n",
        "\n",
        "print(s)\n",
        "\n"
      ]
    },
    {
      "cell_type": "code",
      "execution_count": null,
      "id": "8cf13ecb-3c45-43f2-a31e-99f84798764c",
      "metadata": {
        "id": "8cf13ecb-3c45-43f2-a31e-99f84798764c",
        "outputId": "50179551-2e02-4fd8-dcdd-ae2f3abba346"
      },
      "outputs": [
        {
          "name": "stdout",
          "output_type": "stream",
          "text": [
            "[]\n"
          ]
        }
      ],
      "source": [
        "L=[11,12,13,14]\n",
        "L.clear()\n",
        "print(L)"
      ]
    },
    {
      "cell_type": "code",
      "execution_count": null,
      "id": "93cceb18-ea89-425a-9149-5ddd32d0d1c0",
      "metadata": {
        "id": "93cceb18-ea89-425a-9149-5ddd32d0d1c0"
      },
      "outputs": [],
      "source": [
        "L=[11,12,13,14]\n",
        "del L\n"
      ]
    },
    {
      "cell_type": "code",
      "execution_count": null,
      "id": "5fc6bb87-5f73-46f9-8def-604b503fa2a5",
      "metadata": {
        "id": "5fc6bb87-5f73-46f9-8def-604b503fa2a5",
        "outputId": "72429c02-9ff9-43f7-8a19-1feb65a6ef08"
      },
      "outputs": [
        {
          "name": "stdout",
          "output_type": "stream",
          "text": [
            "{1: 5.6, 2: 7.8, 3: 6.6, 4: 8.7, 5: 7.7, 8: 8.8}\n"
          ]
        }
      ],
      "source": [
        "d={1:5.6,2:7.8,3:6.6,4:8.7,5:7.7}\n",
        "d[8]=8.8\n",
        "print(d)"
      ]
    },
    {
      "cell_type": "code",
      "execution_count": null,
      "id": "a5dd123e-88bf-4fc4-bdd2-95fba132c708",
      "metadata": {
        "id": "a5dd123e-88bf-4fc4-bdd2-95fba132c708",
        "outputId": "e74a4f25-3850-468e-836a-fcd1a6564070"
      },
      "outputs": [
        {
          "name": "stdout",
          "output_type": "stream",
          "text": [
            "{1: 5.6, 3: 6.6, 4: 8.7, 5: 7.7}\n"
          ]
        }
      ],
      "source": [
        "d={1:5.6,2:7.8,3:6.6,4:8.7,5:7.7}\n",
        "del d[2]\n",
        "print(d)"
      ]
    },
    {
      "cell_type": "code",
      "execution_count": null,
      "id": "91a4b96c-2357-4c83-b972-7eeef89b6492",
      "metadata": {
        "id": "91a4b96c-2357-4c83-b972-7eeef89b6492",
        "outputId": "1cf3784c-0575-4ea4-8ecd-84854593bb08"
      },
      "outputs": [
        {
          "name": "stdout",
          "output_type": "stream",
          "text": [
            "False\n"
          ]
        }
      ],
      "source": [
        "d={1:5.6,2:7.8,3:6.6,4:8.7,5:7.7}\n",
        "print(6 in d)"
      ]
    },
    {
      "cell_type": "code",
      "execution_count": null,
      "id": "cd59491c-1dff-4e9b-8dff-dd8917bbb71d",
      "metadata": {
        "id": "cd59491c-1dff-4e9b-8dff-dd8917bbb71d",
        "outputId": "21e9b4e9-3804-4951-e39a-1d7a585c056b"
      },
      "outputs": [
        {
          "name": "stdout",
          "output_type": "stream",
          "text": [
            "5\n"
          ]
        }
      ],
      "source": [
        "d={1:5.6,2:7.8,3:6.6,4:8.7,5:7.7}\n",
        "n=len(d)\n",
        "print(n)"
      ]
    },
    {
      "cell_type": "code",
      "execution_count": null,
      "id": "0e8ef670-35f3-4e6b-9974-e75ffe8d11da",
      "metadata": {
        "id": "0e8ef670-35f3-4e6b-9974-e75ffe8d11da",
        "outputId": "1cc93c0b-eb08-431a-a83c-f4508c5b324c"
      },
      "outputs": [
        {
          "name": "stdout",
          "output_type": "stream",
          "text": [
            "36.4\n"
          ]
        }
      ],
      "source": [
        "s=0\n",
        "d={1:5.6,2:7.8,3:6.6,4:8.7,5:7.7}\n",
        "for value in d.values():\n",
        "    s+=value\n",
        "print(s)"
      ]
    },
    {
      "cell_type": "code",
      "execution_count": null,
      "id": "55f92b70-798b-4344-823a-54ef0db52cd9",
      "metadata": {
        "id": "55f92b70-798b-4344-823a-54ef0db52cd9",
        "outputId": "8a563522-1612-4fb1-df4a-f0e61a602fe1"
      },
      "outputs": [
        {
          "name": "stdout",
          "output_type": "stream",
          "text": [
            "{1: 5.6, 2: 7.8, 3: 7.1, 4: 8.7, 5: 7.7}\n"
          ]
        }
      ],
      "source": [
        "d={1:5.6,2:7.8,3:6.6,4:8.7,5:7.7}\n",
        "d[3]=7.1\n",
        "print(d)"
      ]
    },
    {
      "cell_type": "code",
      "execution_count": null,
      "id": "7c6b4fe0-f775-4c75-b981-a3da278bc548",
      "metadata": {
        "id": "7c6b4fe0-f775-4c75-b981-a3da278bc548",
        "outputId": "419918d7-c3a4-4700-efd4-b652011c590c"
      },
      "outputs": [
        {
          "name": "stdout",
          "output_type": "stream",
          "text": [
            "{}\n"
          ]
        }
      ],
      "source": [
        "d={1:5.6,2:7.8,3:6.6,4:8.7,5:7.7}\n",
        "d.clear()\n",
        "print(d)"
      ]
    },
    {
      "cell_type": "code",
      "execution_count": null,
      "id": "0e29b012-9884-417b-ad7a-38488396cbda",
      "metadata": {
        "id": "0e29b012-9884-417b-ad7a-38488396cbda",
        "outputId": "91043a81-5170-4a8d-de23-38b7614d45ae"
      },
      "outputs": [
        {
          "name": "stdout",
          "output_type": "stream",
          "text": [
            "[10, 20, 30, 40, 50, 60, 55, 66]\n"
          ]
        }
      ],
      "source": [
        "s1=[10,20,30,40,50,60]\n",
        "s2=[40,50,60,70,80,90]\n",
        "s1.append(55)\n",
        "s1.append(66)\n",
        "print(s1)"
      ]
    },
    {
      "cell_type": "code",
      "execution_count": null,
      "id": "3e323b47-aada-4dda-b97b-ef2922e9b2e4",
      "metadata": {
        "id": "3e323b47-aada-4dda-b97b-ef2922e9b2e4",
        "outputId": "717aa91e-341d-47c7-87c6-67f6981103c6"
      },
      "outputs": [
        {
          "name": "stdout",
          "output_type": "stream",
          "text": [
            "[20, 40, 50, 60]\n"
          ]
        }
      ],
      "source": [
        "s1=[10,20,30,40,50,60]\n",
        "s2=[40,50,60,70,80,90]\n",
        "s1.remove(10)\n",
        "s1.remove(30)\n",
        "print(s1)"
      ]
    },
    {
      "cell_type": "code",
      "execution_count": null,
      "id": "ab22c070-338d-4d27-9cca-51c461625cd5",
      "metadata": {
        "id": "ab22c070-338d-4d27-9cca-51c461625cd5",
        "outputId": "60606353-bf2e-44b1-fcad-202b40000cab"
      },
      "outputs": [
        {
          "name": "stdout",
          "output_type": "stream",
          "text": [
            "True\n"
          ]
        }
      ],
      "source": [
        "s1=[10,20,30,40,50,60]\n",
        "s2=[40,50,60,70,80,90]\n",
        "print(40 in s1)"
      ]
    },
    {
      "cell_type": "code",
      "execution_count": null,
      "id": "31d81216-9e8a-4040-926d-8e531bc03c4e",
      "metadata": {
        "id": "31d81216-9e8a-4040-926d-8e531bc03c4e",
        "outputId": "faa31565-729a-4af2-def5-a79dace1921a"
      },
      "outputs": [
        {
          "name": "stdout",
          "output_type": "stream",
          "text": [
            "{70, 40, 10, 80, 50, 20, 90, 60, 30}\n"
          ]
        }
      ],
      "source": [
        "s1=[10,20,30,40,50,60]\n",
        "s2=[40,50,60,70,80,90]\n",
        "print(set(s1).union(set(s2)))"
      ]
    },
    {
      "cell_type": "code",
      "execution_count": null,
      "id": "dd589262-aecd-4421-a6fc-0ad325be5b04",
      "metadata": {
        "id": "dd589262-aecd-4421-a6fc-0ad325be5b04",
        "outputId": "f07c515b-a6e1-45da-a3b5-2dc3eb516610"
      },
      "outputs": [
        {
          "name": "stdout",
          "output_type": "stream",
          "text": [
            "{40, 50, 60}\n"
          ]
        }
      ],
      "source": [
        "s1=[10,20,30,40,50,60]\n",
        "s2=[40,50,60,70,80,90]\n",
        "print(set(s1).intersection(set(s2)))"
      ]
    },
    {
      "cell_type": "code",
      "execution_count": null,
      "id": "7391b01d-7ec3-4ded-8287-43b041b94b75",
      "metadata": {
        "id": "7391b01d-7ec3-4ded-8287-43b041b94b75",
        "outputId": "d40a552c-4b31-4733-853e-a1d39955a922"
      },
      "outputs": [
        {
          "name": "stdout",
          "output_type": "stream",
          "text": [
            "{10, 20, 30}\n"
          ]
        }
      ],
      "source": [
        "s1=[10,20,30,40,50,60]\n",
        "s2=[40,50,60,70,80,90]\n",
        "print(set(s1).difference(set(s2)))"
      ]
    },
    {
      "cell_type": "code",
      "execution_count": null,
      "id": "e91f3a03-36e0-46d2-aba9-5ebdd41c7c0d",
      "metadata": {
        "id": "e91f3a03-36e0-46d2-aba9-5ebdd41c7c0d",
        "outputId": "7e1ccfbf-bfad-4e70-8a3d-82d4b285a703"
      },
      "outputs": [
        {
          "name": "stdout",
          "output_type": "stream",
          "text": [
            "jixzgyfk\n",
            "tlsxdw\n",
            "fzxvxk\n",
            "temapiik\n",
            "vrbjaxzg\n",
            "nhanofou\n",
            "cnzirwz\n",
            "hqxulvv\n",
            "uextzgv\n",
            "ixdtmapm\n",
            "rfgrdz\n",
            "sajrkmud\n",
            "ysujfqh\n",
            "ebpajltx\n",
            "qaknwq\n",
            "rmxauslt\n",
            "ylyhyg\n",
            "ogwlepw\n",
            "lsetgnrp\n",
            "bfemfut\n",
            "ehpibdia\n",
            "ymhjiu\n",
            "isobmd\n",
            "foojoeob\n",
            "jjaqlf\n",
            "bcsdrkq\n",
            "bxdxyfx\n",
            "wuhrzugh\n",
            "lbwmzrj\n",
            "alwwbg\n",
            "uhtgohaw\n",
            "wlfnhbwm\n",
            "abzooz\n",
            "fmusdvn\n",
            "npurwrq\n",
            "fmcnwncu\n",
            "nazfvgxz\n",
            "womvmo\n",
            "immympyz\n",
            "yhwgwggj\n",
            "jjiyfuk\n",
            "effcixyz\n",
            "efeoikk\n",
            "dtgmdtg\n",
            "quwdhlub\n",
            "tmhyjymd\n",
            "mjqpwtwj\n",
            "kxqolg\n",
            "umoglh\n",
            "kpmiss\n",
            "dsdmcw\n",
            "qhbyjo\n",
            "ewywatje\n",
            "kjjxjwzn\n",
            "erxvkst\n",
            "rlridunt\n",
            "qmfjmh\n",
            "zxzfxuvy\n",
            "pgtktc\n",
            "jsjfsldc\n",
            "ifyyjw\n",
            "swjhgcus\n",
            "alayag\n",
            "arnymj\n",
            "nhigmokg\n",
            "djjmedpq\n",
            "ksawuvf\n",
            "mteleg\n",
            "fjusclk\n",
            "kpztdma\n",
            "lsmrnzu\n",
            "hobpzyk\n",
            "vdlavgrr\n",
            "abyhstj\n",
            "blnlvyg\n",
            "zeiwalso\n",
            "eltstf\n",
            "ixdifis\n",
            "ecbqdcm\n",
            "nsqphb\n",
            "twkrvjeh\n",
            "zfjuku\n",
            "uatniu\n",
            "nuorgzyl\n",
            "xdnncuxu\n",
            "xgeegrwx\n",
            "bovtzvzg\n",
            "ntfjoam\n",
            "aentood\n",
            "iuhlwsc\n",
            "kkmzbj\n",
            "fopidgx\n",
            "xjmwhfn\n",
            "zgdlovrd\n",
            "ypglgtg\n",
            "vkfegxpg\n",
            "fhlnzu\n",
            "jemhgja\n",
            "bwgsceig\n",
            "obqfhmcp\n"
          ]
        }
      ],
      "source": [
        "import random as r\n",
        "import string as s\n",
        "def generaterandomstring():\n",
        "    length = r.randint(6, 8)\n",
        "    return \"\".join(r.choices(s.ascii_lowercase,k=length))\n",
        "for _ in range(100):\n",
        "    print(generaterandomstring())\n"
      ]
    },
    {
      "cell_type": "code",
      "execution_count": null,
      "id": "b9e67640-8d25-4477-abe4-4e6fadf8a2ba",
      "metadata": {
        "id": "b9e67640-8d25-4477-abe4-4e6fadf8a2ba",
        "outputId": "8c656a1a-9854-499b-8120-19263352de2d"
      },
      "outputs": [
        {
          "name": "stdout",
          "output_type": "stream",
          "text": [
            "Prime numbers between 600 and 800:\n",
            "601\n",
            "607\n",
            "613\n",
            "617\n",
            "619\n",
            "631\n",
            "641\n",
            "643\n",
            "647\n",
            "653\n",
            "659\n",
            "661\n",
            "673\n",
            "677\n",
            "683\n",
            "691\n",
            "701\n",
            "709\n",
            "719\n",
            "727\n",
            "733\n",
            "739\n",
            "743\n",
            "751\n",
            "757\n",
            "761\n",
            "769\n",
            "773\n",
            "787\n",
            "797\n"
          ]
        }
      ],
      "source": [
        "print(\"Prime numbers between 600 and 800:\")\n",
        "for num in range(600, 801):\n",
        "    if num > 1:\n",
        "        isprime = True\n",
        "        for i in range(2, int(num**0.5) + 1):\n",
        "            if num % i == 0:\n",
        "                isprime = False\n",
        "                break\n",
        "        if isprime:\n",
        "            print(num)\n"
      ]
    },
    {
      "cell_type": "code",
      "execution_count": null,
      "id": "336f865b-d6a8-4b1b-a487-3b3863d680fc",
      "metadata": {
        "id": "336f865b-d6a8-4b1b-a487-3b3863d680fc",
        "outputId": "193ded0b-573f-4692-a6bc-44db58d06cf4"
      },
      "outputs": [
        {
          "name": "stdout",
          "output_type": "stream",
          "text": [
            "Numbers between 100 and 1000 divisible by 7 and 9:\n",
            "126\n",
            "189\n",
            "252\n",
            "315\n",
            "378\n",
            "441\n",
            "504\n",
            "567\n",
            "630\n",
            "693\n",
            "756\n",
            "819\n",
            "882\n",
            "945\n"
          ]
        }
      ],
      "source": [
        "print(\"Numbers between 100 and 1000 divisible by 7 and 9:\")\n",
        "for num in range(100, 1001):\n",
        "    if num % 7 == 0 and num % 9 == 0:\n",
        "        print(num)"
      ]
    },
    {
      "cell_type": "code",
      "execution_count": null,
      "id": "46cd8584-91c9-452a-acac-58fa2f4366e9",
      "metadata": {
        "id": "46cd8584-91c9-452a-acac-58fa2f4366e9",
        "outputId": "0979f20f-cb5e-4e3f-ded4-72b0956d88e7"
      },
      "outputs": [
        {
          "name": "stdout",
          "output_type": "stream",
          "text": [
            "List 1: [29, 17, 17, 28, 30, 30, 12, 17, 22, 29]\n",
            "List 2: [27, 22, 22, 26, 30, 23, 18, 21, 28, 24]\n",
            "Common numbers: [28, 22, 30]\n"
          ]
        }
      ],
      "source": [
        "import random\n",
        "list1 = [random.randint(10, 30) for i in range(10)]\n",
        "list2 = [random.randint(10, 30) for i in range(10)]\n",
        "commonnumbers = list(set(list1).intersection(set(list2)))\n",
        "print(\"List 1:\", list1)\n",
        "print(\"List 2:\", list2)\n",
        "print(\"Common numbers:\", commonnumbers)"
      ]
    },
    {
      "cell_type": "code",
      "execution_count": null,
      "id": "15843c51-546f-4e1f-8331-42cfb5ab6879",
      "metadata": {
        "id": "15843c51-546f-4e1f-8331-42cfb5ab6879",
        "outputId": "1323b045-2291-4d09-f0be-7decf5c13ee1"
      },
      "outputs": [
        {
          "name": "stdout",
          "output_type": "stream",
          "text": [
            "Unique numbers in List 1: [25, 19, 12, 28]\n",
            "Unique numbers in List 2: [16, 20, 21, 26, 27]\n"
          ]
        }
      ],
      "source": [
        "import random\n",
        "list1 = [random.randint(10, 30) for i in range(10)]\n",
        "list2 = [random.randint(10, 30) for i in range(10)]\n",
        "uniquenumberslist1 = list(set(list1) - set(list2))\n",
        "uniquenumberslist2 = list(set(list2) - set(list1))\n",
        "print(\"Unique numbers in List 1:\", uniquenumberslist1)\n",
        "print(\"Unique numbers in List 2:\", uniquenumberslist2)"
      ]
    },
    {
      "cell_type": "code",
      "execution_count": null,
      "id": "2638eada-9930-4962-a447-e1c702f0a9ae",
      "metadata": {
        "id": "2638eada-9930-4962-a447-e1c702f0a9ae",
        "outputId": "41fcca4f-9391-4037-afb1-cf3491f17e54"
      },
      "outputs": [
        {
          "name": "stdout",
          "output_type": "stream",
          "text": [
            "Maximum of list 1: 29\n",
            "Maximum of list 2: 24\n"
          ]
        }
      ],
      "source": [
        "import random\n",
        "list1 = [random.randint(10, 30) for i in range(10)]\n",
        "list2 = [random.randint(10, 30) for i in range(10)]\n",
        "max1=max(list1)\n",
        "max2=max(list2)\n",
        "print(\"Maximum of list 1:\",max1)\n",
        "print(\"Maximum of list 2:\",max2)"
      ]
    },
    {
      "cell_type": "code",
      "execution_count": null,
      "id": "a225b6c0-6dac-41b8-8ef2-e73c21fae890",
      "metadata": {
        "id": "a225b6c0-6dac-41b8-8ef2-e73c21fae890",
        "outputId": "8dd65ed4-45a9-40d2-80e4-06febb64f340"
      },
      "outputs": [
        {
          "name": "stdout",
          "output_type": "stream",
          "text": [
            "Minimum of list 1: 11\n",
            "Minimum of list 2: 14\n"
          ]
        }
      ],
      "source": [
        "import random\n",
        "list1 = [random.randint(10, 30) for i in range(10)]\n",
        "list2 = [random.randint(10, 30) for i in range(10)]\n",
        "min1=min(list1)\n",
        "min2=min(list2)\n",
        "print(\"Minimum of list 1:\",min1)\n",
        "print(\"Minimum of list 2:\",min2)"
      ]
    },
    {
      "cell_type": "code",
      "execution_count": null,
      "id": "106fe64f-dda4-421f-a792-6c9293585725",
      "metadata": {
        "id": "106fe64f-dda4-421f-a792-6c9293585725",
        "outputId": "b930ea99-68de-4dee-b28a-1189e31ad3bc"
      },
      "outputs": [
        {
          "name": "stdout",
          "output_type": "stream",
          "text": [
            "Sum of list 1: 29\n",
            "Sum of list 2: 24\n"
          ]
        }
      ],
      "source": [
        "import random\n",
        "list1 = [random.randint(10, 30) for i in range(10)]\n",
        "list2 = [random.randint(10, 30) for i in range(10)]\n",
        "sum1=sum(list1)\n",
        "sum2=sum(list2)\n",
        "print(\"Sum of list 1:\",max1)\n",
        "print(\"Sum of list 2:\",max2)"
      ]
    },
    {
      "cell_type": "code",
      "execution_count": null,
      "id": "dc18f134-a821-4463-80b9-14e47fc5c6a8",
      "metadata": {
        "id": "dc18f134-a821-4463-80b9-14e47fc5c6a8",
        "outputId": "76fe8ee3-bd41-493d-adb0-d31fa66d7804"
      },
      "outputs": [
        {
          "name": "stdout",
          "output_type": "stream",
          "text": [
            "Even numbers: 44\n",
            "Odd numbers: 56\n",
            "Prime numbers: 19\n"
          ]
        }
      ],
      "source": [
        "import random as r\n",
        "randomnumbers = [r.randint(100, 900) for i in range(100)]\n",
        "evencount = 0\n",
        "oddcount = 0\n",
        "primecount = 0\n",
        "for num in randomnumbers:\n",
        "    if num % 2 == 0:\n",
        "        evencount += 1\n",
        "    else:\n",
        "        oddcount += 1\n",
        "\n",
        "    if num > 1:\n",
        "        isprime = True\n",
        "        for i in range(2, int(num//2) + 1):\n",
        "            if num % i == 0:\n",
        "                isprime = False\n",
        "                break\n",
        "        if isprime:\n",
        "            primecount += 1\n",
        "\n",
        "print(\"Even numbers:\", evencount)\n",
        "print(\"Odd numbers:\", oddcount)\n",
        "print(\"Prime numbers:\", primecount)\n"
      ]
    },
    {
      "cell_type": "code",
      "execution_count": null,
      "id": "98466ec0-b7ea-4f32-9f3d-cce7209ef22b",
      "metadata": {
        "id": "98466ec0-b7ea-4f32-9f3d-cce7209ef22b",
        "outputId": "bcf1f668-e204-4a46-f654-880539d8a597"
      },
      "outputs": [
        {
          "ename": "IndentationError",
          "evalue": "unexpected indent (2171418828.py, line 3)",
          "output_type": "error",
          "traceback": [
            "\u001b[1;36m  Cell \u001b[1;32mIn[62], line 3\u001b[1;36m\u001b[0m\n\u001b[1;33m    for key, value in D.items():\u001b[0m\n\u001b[1;37m    ^\u001b[0m\n\u001b[1;31mIndentationError\u001b[0m\u001b[1;31m:\u001b[0m unexpected indent\n"
          ]
        }
      ],
      "source": [
        "D = {1: \"one\", 2: \"two\", 3: \"three\", 4: \"four\", 5: \"five\"}\n",
        "Writefp=open('abc.txt','w')\n",
        "    for key, value in D.items():\n",
        "        Writefp.write(f\"{key},{value} \")\n",
        "print(\"Keys and values have been written to abc.txt\")\n"
      ]
    },
    {
      "cell_type": "code",
      "execution_count": null,
      "id": "8b09f1b6-9874-45e6-80de-3bdad7c9bd0e",
      "metadata": {
        "id": "8b09f1b6-9874-45e6-80de-3bdad7c9bd0e",
        "outputId": "5df6400b-c826-4fd2-bdec-116380bfd6e5"
      },
      "outputs": [
        {
          "ename": "IndentationError",
          "evalue": "unexpected indent (3616564690.py, line 3)",
          "output_type": "error",
          "traceback": [
            "\u001b[1;36m  Cell \u001b[1;32mIn[63], line 3\u001b[1;36m\u001b[0m\n\u001b[1;33m    for item in L:\u001b[0m\n\u001b[1;37m    ^\u001b[0m\n\u001b[1;31mIndentationError\u001b[0m\u001b[1;31m:\u001b[0m unexpected indent\n"
          ]
        }
      ],
      "source": [
        "L = [\"one\", \"two\", \"three\", \"four\", \"five\"]\n",
        "Writefp=open('abc.txt','w')\n",
        "    for item in L:\n",
        "        length = len(item)\n",
        "        Writefp.write(f\"{item},{length}\")\n",
        "print(\"Element lengths have been written to element_lengths.txt\")\n"
      ]
    },
    {
      "cell_type": "code",
      "execution_count": null,
      "id": "c1a2d6d0-cc76-4a34-9a87-6aaa08948562",
      "metadata": {
        "id": "c1a2d6d0-cc76-4a34-9a87-6aaa08948562",
        "outputId": "5788a293-e2cb-4ec0-c562-149f2a789433"
      },
      "outputs": [
        {
          "ename": "IndentationError",
          "evalue": "unexpected indent (2600591141.py, line 8)",
          "output_type": "error",
          "traceback": [
            "\u001b[1;36m  Cell \u001b[1;32mIn[65], line 8\u001b[1;36m\u001b[0m\n\u001b[1;33m    for string in randomstrings:\u001b[0m\n\u001b[1;37m    ^\u001b[0m\n\u001b[1;31mIndentationError\u001b[0m\u001b[1;31m:\u001b[0m unexpected indent\n"
          ]
        }
      ],
      "source": [
        "import random as r\n",
        "import string as s\n",
        "def randomstring(length):\n",
        "    letters = s.ascii_letters\n",
        "    return \"\".join(r.choice(letters) for i in range(length))\n",
        "randomstrings = [randomstring(r.randint(10, 15)) for i in range(100)]\n",
        "Writefp=open('abc.txt','w')\n",
        "    for string in randomstrings:\n",
        "        Writefp.write(string)"
      ]
    },
    {
      "cell_type": "code",
      "execution_count": null,
      "id": "fd85f4b0-2437-4d59-9527-f9e6c694ec32",
      "metadata": {
        "id": "fd85f4b0-2437-4d59-9527-f9e6c694ec32",
        "outputId": "c8195d62-dd01-45b9-ce4d-801487f13ba7"
      },
      "outputs": [
        {
          "ename": "IndentationError",
          "evalue": "unexpected indent (1078604723.py, line 10)",
          "output_type": "error",
          "traceback": [
            "\u001b[1;36m  Cell \u001b[1;32mIn[66], line 10\u001b[1;36m\u001b[0m\n\u001b[1;33m    for prime in primenumbers:\u001b[0m\n\u001b[1;37m    ^\u001b[0m\n\u001b[1;31mIndentationError\u001b[0m\u001b[1;31m:\u001b[0m unexpected indent\n"
          ]
        }
      ],
      "source": [
        "def isprime(n):\n",
        "    if n <= 1:\n",
        "        return False\n",
        "    for i in range(2, int(n//2) + 1):\n",
        "        if n % i == 0:\n",
        "            return False\n",
        "    return True\n",
        "primenumbers = [num for num in range(600, 801) if isprime(num)]\n",
        "Writefp=open('abc.txt','w')\n",
        "    for prime in primenumbers:\n",
        "        Writefp.write(f\"{prime}\")"
      ]
    },
    {
      "cell_type": "code",
      "execution_count": null,
      "id": "cd83ecb1-11f0-4511-8503-27792b0c7ab1",
      "metadata": {
        "id": "cd83ecb1-11f0-4511-8503-27792b0c7ab1",
        "outputId": "8f3e209a-e9c6-4839-a375-6a26f7c5e8d7"
      },
      "outputs": [
        {
          "name": "stdout",
          "output_type": "stream",
          "text": [
            "Time taken by the program 0.0732417106628418 seconds\n"
          ]
        }
      ],
      "source": [
        "import time\n",
        "t1 = time.time()\n",
        "result = 0\n",
        "for i in range(1000000):\n",
        "    result += i\n",
        "t2 = time.time()\n",
        "timetaken = t2 - t1\n",
        "print(\"Time taken by the program\", timetaken, \"seconds\")\n"
      ]
    },
    {
      "cell_type": "code",
      "execution_count": null,
      "id": "43771c1a-7ef9-4518-aed5-9b7699b60b81",
      "metadata": {
        "id": "43771c1a-7ef9-4518-aed5-9b7699b60b81",
        "outputId": "21e947a2-6117-4407-f32d-73bedf863fbc"
      },
      "outputs": [
        {
          "name": "stdout",
          "output_type": "stream",
          "text": [
            "Student with maximum average marks: Charlie (92.2)\n",
            "Student with minimum average marks: David (69.8)\n"
          ]
        }
      ],
      "source": [
        "studentmarks={'Alice': [85, 78, 92, 88, 76],\n",
        "    'Bob': [79, 81, 85, 80, 83],\n",
        "    'Charlie': [92, 95, 91, 89, 94],\n",
        "    'David': [70, 65, 72, 68, 74],\n",
        "    'Eve': [88, 90, 85, 87, 89]}\n",
        "maxavgstudent = None\n",
        "maxavgmarks = 0\n",
        "minavgstudent = None\n",
        "minavgmarks = float('inf')\n",
        "for student, marks in studentmarks.items():\n",
        "    avgmarks = sum(marks) / len(marks)\n",
        "    if avgmarks > maxavgmarks:\n",
        "        maxavgmarks = avgmarks\n",
        "        maxavgstudent = student\n",
        "    if avgmarks < minavgmarks:\n",
        "        minavgmarks = avgmarks\n",
        "        minavgstudent = student\n",
        "print(f\"Student with maximum average marks: {maxavgstudent} ({maxavgmarks})\")\n",
        "print(f\"Student with minimum average marks: {minavgstudent} ({minavgmarks})\")"
      ]
    },
    {
      "cell_type": "code",
      "execution_count": null,
      "id": "25ad78bd-d7cd-4b7d-bd09-a2444280472e",
      "metadata": {
        "id": "25ad78bd-d7cd-4b7d-bd09-a2444280472e"
      },
      "outputs": [],
      "source": []
    }
  ],
  "metadata": {
    "kernelspec": {
      "display_name": "Python 3 (ipykernel)",
      "language": "python",
      "name": "python3"
    },
    "language_info": {
      "codemirror_mode": {
        "name": "ipython",
        "version": 3
      },
      "file_extension": ".py",
      "mimetype": "text/x-python",
      "name": "python",
      "nbconvert_exporter": "python",
      "pygments_lexer": "ipython3",
      "version": "3.11.7"
    },
    "colab": {
      "provenance": [],
      "include_colab_link": true
    }
  },
  "nbformat": 4,
  "nbformat_minor": 5
}